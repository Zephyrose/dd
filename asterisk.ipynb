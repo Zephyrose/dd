{
 "cells": [
  {
   "cell_type": "markdown",
   "id": "0ed00e12",
   "metadata": {},
   "source": [
    "<h1> *的用法:打包和解包 </h1>"
   ]
  },
  {
   "cell_type": "code",
   "execution_count": 1,
   "id": "5b954a9c",
   "metadata": {},
   "outputs": [
    {
     "name": "stdout",
     "output_type": "stream",
     "text": [
      "6\n",
      "hahaha\n",
      "[1, 2, 1, 2, 1, 2]\n"
     ]
    }
   ],
   "source": [
    "print(2*3)\n",
    "print('ha'*3)\n",
    "print([1,2]*3)"
   ]
  },
  {
   "cell_type": "code",
   "execution_count": 3,
   "id": "e8d30dff",
   "metadata": {},
   "outputs": [
    {
     "name": "stdout",
     "output_type": "stream",
     "text": [
      "1\n",
      "[2, 3]\n"
     ]
    }
   ],
   "source": [
    "# 打包:将传入的多个值打包为一个序列（list，tuple）\n",
    "# *处理序列 **处理字典\n",
    "my_list = [1,2,3]\n",
    "first , *next = my_list\n",
    "\n",
    "print(first)\n",
    "print(next)"
   ]
  },
  {
   "cell_type": "code",
   "execution_count": 9,
   "id": "f49ef0bb",
   "metadata": {},
   "outputs": [
    {
     "name": "stdout",
     "output_type": "stream",
     "text": [
      "1\n",
      "2\n",
      "3\n"
     ]
    }
   ],
   "source": [
    "def print_value(*args):\n",
    "    for arg in args:\n",
    "        print(arg)\n",
    "\n",
    "print_value(1,2,3)\n"
   ]
  },
  {
   "cell_type": "code",
   "execution_count": 12,
   "id": "f1dd14d3",
   "metadata": {},
   "outputs": [
    {
     "name": "stdout",
     "output_type": "stream",
     "text": [
      "key:a,value:1\n",
      "key:b,value:2\n",
      "key:c,value:3\n"
     ]
    }
   ],
   "source": [
    "def e1(**kwargs):\n",
    "    for key,value in kwargs.items():\n",
    "        print(f'key:{key},value:{value}')\n",
    "e1(a=1,b=2,c=3)"
   ]
  },
  {
   "cell_type": "code",
   "execution_count": 16,
   "id": "4c62a7f4",
   "metadata": {},
   "outputs": [
    {
     "name": "stdout",
     "output_type": "stream",
     "text": [
      "hellozhangsan,you are 18 years old\n"
     ]
    }
   ],
   "source": [
    "# 解包刚好是反过来，将一个序列解为多个值\n",
    "def greet(name,age):\n",
    "    print(f'hello{name},you are {age} years old')\n",
    "person = ('zhangsan',18)\n",
    "greet(*person)"
   ]
  },
  {
   "cell_type": "code",
   "execution_count": 11,
   "id": "922c908b",
   "metadata": {},
   "outputs": [
    {
     "data": {
      "text/plain": [
       "[1, 2, 3, 'a', 'b', 'c']"
      ]
     },
     "execution_count": 11,
     "metadata": {},
     "output_type": "execute_result"
    }
   ],
   "source": [
    "l1 = [1,2,3]\n",
    "t1 = ('a','b','c')\n",
    "\n",
    "my_list = [*l1,*t1]\n",
    "my_list"
   ]
  },
  {
   "cell_type": "code",
   "execution_count": 17,
   "id": "4f07b8e9",
   "metadata": {},
   "outputs": [
    {
     "name": "stdout",
     "output_type": "stream",
     "text": [
      "name:xx\n",
      "age:18\n",
      "email:xx.com\n"
     ]
    }
   ],
   "source": [
    "def create_profile(name,age,email):\n",
    "    print(f'name:{name}')\n",
    "    print(f'age:{age}')\n",
    "    print(f'email:{email}')\n",
    "\n",
    "option = {\n",
    "    'name':'xx',\n",
    "    'age':18,\n",
    "    'email':'xx.com'\n",
    "}\n",
    "create_profile(**option)"
   ]
  },
  {
   "cell_type": "code",
   "execution_count": 18,
   "id": "ddc210a0",
   "metadata": {},
   "outputs": [
    {
     "name": "stdout",
     "output_type": "stream",
     "text": [
      "{'a': 1, 'b': 2, 'c': 3, 'd': 4}\n"
     ]
    }
   ],
   "source": [
    "d1 = {'a':1,'b':2}\n",
    "d2 = {'c':3,'d':4}\n",
    "\n",
    "merged = {**d1,**d2}\n",
    "print(merged)"
   ]
  }
 ],
 "metadata": {
  "kernelspec": {
   "display_name": "base",
   "language": "python",
   "name": "python3"
  },
  "language_info": {
   "codemirror_mode": {
    "name": "ipython",
    "version": 3
   },
   "file_extension": ".py",
   "mimetype": "text/x-python",
   "name": "python",
   "nbconvert_exporter": "python",
   "pygments_lexer": "ipython3",
   "version": "3.12.4"
  }
 },
 "nbformat": 4,
 "nbformat_minor": 5
}
