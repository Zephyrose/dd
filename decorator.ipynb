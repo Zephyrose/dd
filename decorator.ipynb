{
 "cells": [
  {
   "cell_type": "markdown",
   "id": "326afa2b",
   "metadata": {},
   "source": [
    "装饰器（函数的函数）"
   ]
  },
  {
   "cell_type": "code",
   "execution_count": null,
   "id": "a2bdc6f8",
   "metadata": {},
   "outputs": [],
   "source": [
    "def square(x):\n",
    "    return x * x\n",
    "\n",
    "def print_running(f,x):\n",
    "    print(f'{f.__name__} is running')\n",
    "    return f(x)\n",
    "\n",
    "result = print_running(square, 5)\n",
    "result"
   ]
  },
  {
   "cell_type": "code",
   "execution_count": null,
   "id": "e03b2337",
   "metadata": {},
   "outputs": [],
   "source": [
    "import time\n",
    "def decorator(func):\n",
    "    def wrapper(*args, **kwargs):   #这里是打包\n",
    "        start_time = time.time()\n",
    "        result = func(*args, **kwargs)  #这里是解包\n",
    "        end_time = time.time()\n",
    "        print(f'Execution time: {end_time - start_time:.4f} seconds')\n",
    "        return result\n",
    "    return wrapper\n"
   ]
  },
  {
   "cell_type": "code",
   "execution_count": null,
   "id": "293fb7a5",
   "metadata": {},
   "outputs": [],
   "source": [
    "square = decorator(square)\n",
    "square(5)"
   ]
  },
  {
   "cell_type": "code",
   "execution_count": null,
   "id": "d35eee55",
   "metadata": {},
   "outputs": [],
   "source": [
    "@decorator\n",
    "def square(x):\n",
    "    return x * x\n",
    "square(5)"
   ]
  },
  {
   "cell_type": "code",
   "execution_count": null,
   "id": "5e56fa78",
   "metadata": {},
   "outputs": [],
   "source": [
    "import functools\n",
    "\n",
    "def timer(threshold):\n",
    "    def decorator(func):\n",
    "        @functools.wraps(func)\n",
    "        def wrapper(*args, **kwargs):\n",
    "            start_time = time.time()\n",
    "            result = func(*args, **kwargs)\n",
    "            end_time = time.time()\n",
    "            if end_time - start_time > threshold:\n",
    "                print(f'Execution time exceeded {threshold} seconds')\n",
    "            return result\n",
    "        return wrapper\n",
    "    return decorator\n",
    "\n",
    "@timer(0.1)\n",
    "def sleep_01():\n",
    "    time.sleep(0.05)\n",
    "\n",
    "sleep_01()"
   ]
  },
  {
   "cell_type": "code",
   "execution_count": null,
   "id": "d6d02137",
   "metadata": {},
   "outputs": [],
   "source": [
    "sleep_01 = timer(0.1)(sleep_01)\n",
    "sleep_01()"
   ]
  },
  {
   "cell_type": "code",
   "execution_count": null,
   "id": "aa958f78",
   "metadata": {},
   "outputs": [],
   "source": [
    "sleep_01.__name__"
   ]
  }
 ],
 "metadata": {
  "kernelspec": {
   "display_name": "base",
   "language": "python",
   "name": "python3"
  },
  "language_info": {
   "codemirror_mode": {
    "name": "ipython",
    "version": 3
   },
   "file_extension": ".py",
   "mimetype": "text/x-python",
   "name": "python",
   "nbconvert_exporter": "python",
   "pygments_lexer": "ipython3",
   "version": "3.12.4"
  }
 },
 "nbformat": 4,
 "nbformat_minor": 5
}
